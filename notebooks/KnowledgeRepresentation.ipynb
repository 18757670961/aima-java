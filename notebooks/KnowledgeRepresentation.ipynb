{
 "cells": [
  {
   "cell_type": "markdown",
   "metadata": {},
   "source": [
    "# Knowledge Representation\n",
    "\n",
    "This notebook serves as the supporting material for Chapter 12 **Knowledge Representation**. In this notebook we will show how to use the code repository to represenr tge most important aspects of the real world in first order logic, such as action, space, time, thoughts and shopping. In this notebook we will be building representations of various complex domains in first order logic. First, let's load the aima-jar."
   ]
  },
  {
   "cell_type": "code",
   "execution_count": 1,
   "metadata": {},
   "outputs": [
    {
     "data": {
      "application/vnd.jupyter.widget-view+json": {
       "model_id": "1cefd794-2c0e-4877-bd10-2e774aab58da",
       "version_major": 2,
       "version_minor": 0
      },
      "method": "display_data"
     },
     "metadata": {},
     "output_type": "display_data"
    }
   ],
   "source": [
    "%classpath add jar ../out/artifacts/aima_core_jar/aima-core.jar"
   ]
  },
  {
   "cell_type": "markdown",
   "metadata": {},
   "source": [
    "## Categories and objects\n",
    "\n",
    "There are two choices for representing categories in first order logic, predicates and objects.That is, we can use the predicate $ Basketball (b)$ , or we can reify the category as an object, Basketballs. We could then say $Member (b, Basketballs )$, which we will abbreviate as $ b \\in Basketballs $ , to say that b is a member of the category of basketballs. We say $Subset(Basketballs, Balls)$, abbreviated as $ Basketballs \\subset Balls $, to say that Basketballs is a subcategory of Balls."
   ]
  },
  {
   "cell_type": "markdown",
   "metadata": {},
   "source": [
    "First-order logic makes it easy to state facts about categories, either by relating objects to categories or by quantifying over their members. Here are some types of facts, with\n",
    "examples of each:\n",
    "1. An object is a member of a category.<br>\n",
    "&nbsp;&nbsp;&nbsp;$BB_9 \\in Basketballs$\n",
    "2. A category is a subclass of another category.<br>\n",
    "&nbsp;&nbsp;&nbsp;$Basketballs \\subset Balls$\n",
    "3. All members of a category have some properties.<br>\n",
    "&nbsp;&nbsp;&nbsp;$(x \\in Basketballs) \\implies Spherical (x)$\n",
    "4. Members of a category can be recognized by some properties.<br>\n",
    "&nbsp;&nbsp;&nbsp;$Orange(x) \\wedge Round (x) \\wedge Diameter (x) = 9.5''  \\wedge x \\in Balls \\implies x \\in Basketballs$\n",
    "5. A category as a whole has some properties.<br>\n",
    "&nbsp;&nbsp;&nbsp;$Dogs \\in DomesticatedSpecies$\n",
    "\n",
    "Let us learn how to represent this using first order logic and the code repository. First let us make a helper class consisting of helper methods. Let us create a basic domain for ontology creation that includes predicates like $Member()$ and $Subset()$. Other constants and presicates can then be later added to this domain."
   ]
  },
  {
   "cell_type": "code",
   "execution_count": 3,
   "metadata": {},
   "outputs": [
    {
     "data": {
      "text/plain": [
       "aima.notebooks.knowledgerepresentation.Utils"
      ]
     },
     "execution_count": 3,
     "metadata": {},
     "output_type": "execute_result"
    }
   ],
   "source": [
    "package aima.notebooks.knowledgerepresentation;\n",
    "\n",
    "import aima.core.logic.fol.domain.FOLDomain;\n",
    "\n",
    "public class Utils{\n",
    "    public static FOLDomain getOntologyBasicDomain(){\n",
    "        FOLDomain domain = new FOLDomain();\n",
    "        domain.addPredicate(\"Member\");\n",
    "        domain.addPredicate(\"Subset\");\n",
    "        return domain;\n",
    "    }\n",
    "}"
   ]
  },
  {
   "cell_type": "markdown",
   "metadata": {},
   "source": [
    "Now, let's see how can we incorporate the above five facts into our ontology or knowledge base."
   ]
  },
  {
   "cell_type": "code",
   "execution_count": 36,
   "metadata": {},
   "outputs": [
    {
     "name": "stdout",
     "output_type": "stream",
     "text": [
      "Member(BB9,Basketballs)\n",
      "Subset(Basketballs,Balls)\n",
      "(Member(x,Basketballs) => Spherical(x))\n",
      "((((Orange(x) AND Round(x)) AND Diameter(x,Nine)) AND Member(x,Balls)) => Member(x,Basketballs))\n",
      "Member(Dogs,DomesticatedSpecies)\n",
      "\n"
     ]
    },
    {
     "data": {
      "text/plain": [
       "null"
      ]
     },
     "execution_count": 36,
     "metadata": {},
     "output_type": "execute_result"
    }
   ],
   "source": [
    "package aima.notebooks.knowledgerepresentation;\n",
    "\n",
    "import aima.core.logic.fol.domain.*;\n",
    "import aima.core.logic.fol.kb.*;\n",
    "\n",
    "FOLDomain domain = Utils.getOntologyBasicDomain();\n",
    "\n",
    "// Add the category basketballs to the domain\n",
    "domain.addConstant(\"Basketballs\");\n",
    "// Add the basketball BB9 to the domain\n",
    "domain.addConstant(\"BB9\");\n",
    "// Add the category Balls\n",
    "domain.addConstant(\"Balls\");\n",
    "domain.addConstant(\"Nine\");// because our knowledge doesnot include real numbers\n",
    "//Add relevant properties\n",
    "domain.addPredicate(\"Spherical\");\n",
    "domain.addPredicate(\"Round\");\n",
    "domain.addPredicate(\"Orange\");\n",
    "domain.addPredicate(\"Diameter\");\n",
    "domain.addConstant(\"Dogs\");\n",
    "domain.addConstant(\"DomesticatedSpecies\");\n",
    "// Create a knowledgebase\n",
    "FOLKnowledgeBase kb = new FOLKnowledgeBase(domain);\n",
    "\n",
    "//BB9 ∈ Basketballs\n",
    "kb.tell(\"Member(BB9, Basketballs)\");\n",
    "\n",
    "// Basketballs ⊂ Balls\n",
    "kb.tell(\"Subset(Basketballs,Balls)\");\n",
    "\n",
    "// ( x ∈ Basketballs ) ⇒ Spherical(x) \n",
    "kb.tell(\"(Member(x,Basketballs) => Spherical(x))\");\n",
    "\n",
    "// Orange(x) ∧ Round(x) ∧ Diameter(x) = 9.5″ ∧ x ∈ Balls ⇒ x ∈ Basketballs\n",
    "kb.tell(\"((((Orange(x) AND Round(x)) AND Diameter(x,Nine) AND Member(x, Balls))) => Member(x, Basketballs))\");\n",
    "\n",
    "// Dogs ∈ DomesticatedSpecies\n",
    "kb.tell(\"Member(Dogs,DomesticatedSpecies)\");\n",
    "\n",
    "System.out.println(kb.toString());"
   ]
  },
  {
   "cell_type": "code",
   "execution_count": null,
   "metadata": {},
   "outputs": [],
   "source": []
  }
 ],
 "metadata": {
  "kernelspec": {
   "display_name": "Java",
   "language": "java",
   "name": "java"
  },
  "language_info": {
   "codemirror_mode": "text/x-java",
   "file_extension": ".java",
   "mimetype": "",
   "name": "Java",
   "nbconverter_exporter": "",
   "version": "1.8.0_161"
  },
  "toc": {
   "base_numbering": 1,
   "nav_menu": {},
   "number_sections": false,
   "sideBar": false,
   "skip_h1_title": false,
   "title_cell": "Table of Contents",
   "title_sidebar": "Contents",
   "toc_cell": false,
   "toc_position": {},
   "toc_section_display": false,
   "toc_window_display": false
  }
 },
 "nbformat": 4,
 "nbformat_minor": 2
}
