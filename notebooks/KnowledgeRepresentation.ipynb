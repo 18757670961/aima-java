{
 "cells": [
  {
   "cell_type": "markdown",
   "metadata": {},
   "source": [
    "# Knowledge Representation\n",
    "\n",
    "This notebook serves as the supporting material for Chapter 12 **Knowledge Representation**. In this notebook we will show how to use the code repository to represenr tge most important aspects of the real world in first order logic, such as action, space, time, thoughts and shopping. In this notebook we will be building representations of various complex domains in first order logic. First, let's load the aima-jar."
   ]
  },
  {
   "cell_type": "code",
   "execution_count": 17,
   "metadata": {},
   "outputs": [],
   "source": [
    "%classpath add jar ../out/artifacts/aima_core_jar/aima-core.jar"
   ]
  },
  {
   "cell_type": "markdown",
   "metadata": {},
   "source": [
    "## Categories and objects\n",
    "\n",
    "There are two choices for representing categories in first order logic, predicates and objects.That is, we can use the predicate $ Basketball (b)$ , or we can reify the category as an object, Basketballs. We could then say $Member (b, Basketballs )$, which we will abbreviate as $ b \\in Basketballs $ , to say that b is a member of the category of basketballs. We say $Subset(Basketballs, Balls)$, abbreviated as $ Basketballs \\subset Balls $, to say that Basketballs is a subcategory of Balls."
   ]
  },
  {
   "cell_type": "markdown",
   "metadata": {},
   "source": [
    "First-order logic makes it easy to state facts about categories, either by relating objects to categories or by quantifying over their members. Here are some types of facts, with\n",
    "examples of each:\n",
    "1. An object is a member of a category.<br>\n",
    "&nbsp;&nbsp;&nbsp;$BB_9 \\in Basketballs$\n",
    "2. A category is a subclass of another category.<br>\n",
    "&nbsp;&nbsp;&nbsp;$Basketballs \\subset Balls$\n",
    "3. All members of a category have some properties.<br>\n",
    "&nbsp;&nbsp;&nbsp;$(x \\in Basketballs) \\implies Spherical (x)$\n",
    "4. Members of a category can be recognized by some properties.<br>\n",
    "&nbsp;&nbsp;&nbsp;$Orange(x) \\wedge Round (x) \\wedge Diameter (x) = 9.5''  \\wedge x \\in Balls \\implies x \\in Basketballs$\n",
    "5. A category as a whole has some properties.<br>\n",
    "&nbsp;&nbsp;&nbsp;$Dogs \\in DomesticatedSpecies$\n",
    "\n",
    "Let us learn how to represent this using first order logic and the code repository. We will add the code written in each block to the Utils class at the end of the notebook so that the code can be reused. Let us create a basic domain for ontology creation that includes predicates like $Member()$ and $Subset()$. Other constants and presicates can then be later added to this domain."
   ]
  },
  {
   "cell_type": "code",
   "execution_count": 18,
   "metadata": {},
   "outputs": [
    {
     "data": {
      "text/plain": [
       "aima.core.logic.fol.domain.FOLDomain@25d9fd02"
      ]
     },
     "execution_count": 18,
     "metadata": {},
     "output_type": "execute_result"
    }
   ],
   "source": [
    "package aima.notebooks.knowledgerepresentation;\n",
    "\n",
    "import aima.core.logic.fol.domain.FOLDomain;\n",
    "\n",
    "FOLDomain domain = new FOLDomain();\n",
    "        domain.addPredicate(\"Member\");\n",
    "        domain.addPredicate(\"Subset\");\n",
    "        return domain.toString();"
   ]
  },
  {
   "cell_type": "code",
   "execution_count": 82,
   "metadata": {},
   "outputs": [
    {
     "data": {
      "text/plain": [
       "aima.notebooks.knowledgerepresentation.Utils"
      ]
     },
     "execution_count": 82,
     "metadata": {},
     "output_type": "execute_result"
    }
   ],
   "source": [
    "package aima.notebooks.knowledgerepresentation;\n",
    "\n",
    "import aima.core.logic.fol.domain.*;\n",
    "import aima.core.logic.fol.kb.*;\n",
    "\n",
    "public class Utils{\n",
    "    \n",
    "    public static FOLDomain getOntologyBasicDomain(){\n",
    "        FOLDomain domain = new FOLDomain();\n",
    "        domain.addPredicate(\"Member\");\n",
    "        domain.addPredicate(\"Subset\");\n",
    "        domain.addPredicate(\"Disjoint\");\n",
    "        domain.addPredicate(\"ExhaustiveDecomposition\");\n",
    "        domain.addPredicate(\"Partition\");\n",
    "        domain.addFunction(\"Intersection\");\n",
    "        domain.addConstant(\"Phi\");\n",
    "        return domain;\n",
    "    }\n",
    "    \n",
    "    public static FOLDomain getFiveExampleDomain(){\n",
    "        FOLDomain domain = Utils.getOntologyBasicDomain();\n",
    "        // Add the category basketballs to the domain\n",
    "        domain.addConstant(\"Basketballs\");\n",
    "        // Add the basketball BB9 to the domain\n",
    "        domain.addConstant(\"BB9\");\n",
    "        // Add the category Balls\n",
    "        domain.addConstant(\"Balls\");\n",
    "        domain.addConstant(\"Nine\");// because our knowledge doesnot include real numbers\n",
    "        //Add relevant properties\n",
    "        domain.addPredicate(\"Spherical\");\n",
    "        domain.addPredicate(\"Round\");\n",
    "        domain.addPredicate(\"Orange\");\n",
    "        domain.addPredicate(\"Diameter\");\n",
    "        domain.addConstant(\"Dogs\");\n",
    "        domain.addConstant(\"DomesticatedSpecies\");\n",
    "        return domain;\n",
    "    }\n",
    "    \n",
    "    public static FOLKnowledgeBase getFiveExampleKnowledgeBase(){\n",
    "        FOLKnowledgeBase kb = new FOLKnowledgeBase(Utils.getOntologyBasicDomain());\n",
    "\n",
    "        //BB9 ∈ Basketballs\n",
    "        kb.tell(\"Member(BB9, Basketballs)\");\n",
    "\n",
    "        // Basketballs ⊂ Balls\n",
    "        kb.tell(\"Subset(Basketballs,Balls)\");\n",
    "\n",
    "        // ( x ∈ Basketballs ) ⇒ Spherical(x) \n",
    "        kb.tell(\"(Member(x,Basketballs) => Spherical(x))\");\n",
    "\n",
    "        // Orange(x) ∧ Round(x) ∧ Diameter(x) = 9.5″ ∧ x ∈ Balls ⇒ x ∈ Basketballs\n",
    "        kb.tell(\"((((Orange(x) AND Round(x)) AND Diameter(x,Nine) AND Member(x, Balls))) => Member(x, Basketballs))\");\n",
    "\n",
    "        // Dogs ∈ DomesticatedSpecies\n",
    "        kb.tell(\"Member(Dogs,DomesticatedSpecies)\");\n",
    "        \n",
    "        return kb;\n",
    "\n",
    "    }\n",
    "    \n",
    "    public static FOLKnowledgeBase getCategoryKnowledgeBase(FOLDomain domain){\n",
    "        domain.addPredicate(\"Member\");\n",
    "        domain.addPredicate(\"Subset\");\n",
    "        domain.addPredicate(\"Disjoint\");\n",
    "        domain.addPredicate(\"ExhaustiveDecomposition\");\n",
    "        domain.addPredicate(\"Partition\");\n",
    "        domain.addFunction(\"Intersection\");\n",
    "        domain.addConstant(\"Phi\");\n",
    "        \n",
    "        FOLKnowledgeBase kb = new FOLKnowledgeBase(domain);\n",
    "        // equality axioms\n",
    "        // Reflexivity Axiom\n",
    "        kb.tell(\"x = x\");\n",
    "        // Symmetry Axiom\n",
    "        kb.tell(\"(x = y => y = x)\");\n",
    "        // Transitivity Axiom\n",
    "        kb.tell(\"((x = y AND y = z) => x = z)\");\n",
    "        // Function Intersection Substitution Axiom\n",
    "        kb.tell(\"(( x = y AND w = z) => ( Intersection(x,w) = Intersection(w,z) ))\");\n",
    "        // Predicate Substitution Axioms\n",
    "        kb.tell(\"((x = y AND v = w AND Member(x,v)) => Member(y,w))\");\n",
    "        kb.tell(\"((x = y AND v = w AND Disjoint(x,v)) => Disjoint(y,w))\");\n",
    "        kb.tell(\"((x = y AND v = w AND ExhaustiveDecomposition(x,v)) => ExhaustiveDecomposition(y,w))\");\n",
    "        kb.tell(\"((x = y AND v = w AND Partition(x,v)) => Partition(y,w))\");\n",
    "\n",
    "        // Definition of disjoint Disjoint(s) ⟺ ( ∀ c1,c2 c1 ∈ s ∧ c2 ∈ s  ∧ c1 ≠ c2 ⟹ Intersection(c1,c2) = {})\n",
    "        kb.tell(\" ( Disjoint(s) <=> (FORALL x,y (( Member(x,s) AND Member(y,s) AND (NOT ( x = y ))) => (Intersection(x,y) = Phi)))) \");\n",
    "\n",
    "        // Definition of ExhaustiveDecomposition ExhaustiveDecomposition(s,c) ⟺ ( ∀i i ∈ c ⟺ ∃ c2 c2 ∈ s ∧ i ∈ c2 )\n",
    "        kb.tell(\"(ExhaustiveDecomposition(s,c) <=> ( FORALL i ( Member(i,c) => (EXISTS c2 (Member(c2,s) AND Member(i,c2))))))\");\n",
    "\n",
    "        // Definition of Partition\n",
    "        kb.tell(\"(Partition(s,c) <=> ( Disjoint(s) AND ExhaustiveDecomposition(s)))\");\n",
    "\n",
    "        // Definition for intersection\n",
    "        kb.tell(\"( Member(x, Intersection(s,b)) <=> (Member(x,a) AND Member(x,b)))\");\n",
    "    \n",
    "        //Definition of Phi\n",
    "        kb.tell(\"(FORALL x  NOT Member(x,Phi))\");\n",
    "        \n",
    "        kb.tell(\"(Subset(a,b) <=> (FORALL x (Member(x,a) => Member(x,b))))\");\n",
    "\n",
    "        return kb;\n",
    "    }\n",
    "}\n"
   ]
  },
  {
   "cell_type": "markdown",
   "metadata": {},
   "source": [
    "Now, let's see how can we incorporate the above five facts into our ontology or knowledge base."
   ]
  },
  {
   "cell_type": "code",
   "execution_count": 52,
   "metadata": {},
   "outputs": [
    {
     "data": {
      "text/plain": [
       "Member(BB9,Basketballs)\n",
       "Subset(Basketballs,Balls)\n",
       "(Member(x,Basketballs) => Spherical(x))\n",
       "((((Orange(x) AND Round(x)) AND Diameter(x,Nine)) AND Member(x,Balls)) => Member(x,Basketballs))\n",
       "Member(Dogs,DomesticatedSpecies)\n"
      ]
     },
     "execution_count": 52,
     "metadata": {},
     "output_type": "execute_result"
    }
   ],
   "source": [
    "\n",
    "import aima.notebooks.knowledgerepresentation.Utils;\n",
    "import aima.core.logic.fol.domain.*;\n",
    "import aima.core.logic.fol.kb.*;\n",
    "\n",
    "FOLDomain domain = Utils.getOntologyBasicDomain();\n",
    "\n",
    "// Add the category basketballs to the domain\n",
    "domain.addConstant(\"Basketballs\");\n",
    "// Add the basketball BB9 to the domain\n",
    "domain.addConstant(\"BB9\");\n",
    "// Add the category Balls\n",
    "domain.addConstant(\"Balls\");\n",
    "domain.addConstant(\"Nine\");// because our knowledge doesnot include real numbers\n",
    "//Add relevant properties\n",
    "domain.addPredicate(\"Spherical\");\n",
    "domain.addPredicate(\"Round\");\n",
    "domain.addPredicate(\"Orange\");\n",
    "domain.addPredicate(\"Diameter\");\n",
    "domain.addConstant(\"Dogs\");\n",
    "domain.addConstant(\"DomesticatedSpecies\");\n",
    "// Create a knowledgebase\n",
    "FOLKnowledgeBase kb = new FOLKnowledgeBase(domain);\n",
    "\n",
    "//BB9 ∈ Basketballs\n",
    "kb.tell(\"Member(BB9, Basketballs)\");\n",
    "\n",
    "// Basketballs ⊂ Balls\n",
    "kb.tell(\"Subset(Basketballs,Balls)\");\n",
    "\n",
    "// ( x ∈ Basketballs ) ⇒ Spherical(x) \n",
    "kb.tell(\"(Member(x,Basketballs) => Spherical(x))\");\n",
    "\n",
    "// Orange(x) ∧ Round(x) ∧ Diameter(x) = 9.5″ ∧ x ∈ Balls ⇒ x ∈ Basketballs\n",
    "kb.tell(\"((((Orange(x) AND Round(x)) AND Diameter(x,Nine) AND Member(x, Balls))) => Member(x, Basketballs))\");\n",
    "\n",
    "// Dogs ∈ DomesticatedSpecies\n",
    "kb.tell(\"Member(Dogs,DomesticatedSpecies)\");\n",
    "\n",
    "return kb.toString();"
   ]
  },
  {
   "cell_type": "markdown",
   "metadata": {},
   "source": [
    "Now, as explained in the text we also require some other relations(such as being **disjoint**) for the categories. And even if we know that males and females\n",
    "are disjoint, we will not know that an animal that is not a male must be a female, unless\n",
    "we say that males and females constitute an exhaustive decomposition of the animals. A\n",
    "disjoint exhaustive decomposition is known as a partition. The following examples illustrate\n",
    "these three concepts:\n",
    "$$\n",
    "Disjoint(\\{Animals, Vegetables\\}) $$ $$\n",
    "ExhaustiveDecomposition (\\{Americans, Canadians , Mexicans\\},\n",
    "NorthAmericans)$$ $$\n",
    "Partition(\\{Males, Females\\}, Animals) $$\n",
    "\n",
    "Now, as far as first order logic is concerned the above three predicates can be defined as follows :\n",
    "$$ Disjoint(s) \\iff (\\forall c_1 , c_2\\quad c_1 \\in s \\wedge c_2 \\in s \\wedge c_1 \\neq c_2 \\implies Intersection(c_1 , c_2 ) = \\{ \\})$$\n",
    "$$ ExhaustiveDecomposition (s, c) \\iff (\\forall i\\quad i \\in c \\iff \\exists c_2 \\quad c_2 \\in s \\wedge i \\in c_2 )$$\n",
    "$$ Partition(s, c) \\iff Disjoint(s) \\wedge ExhaustiveDecomposition (s, c) $$"
   ]
  },
  {
   "cell_type": "markdown",
   "metadata": {},
   "source": [
    "In order to add these definitions we will have to expand our basic ontology domain to include a few more constants and predicates. The Intersection must be added as a function. Also we must add a constant called `Phi` for the empty set $\\phi$. Also we will later add the definition of intersection as follows:\n",
    "$$ x \\in A\\cap B \\iff (x\\in \\wedge x\\in B)$$"
   ]
  },
  {
   "cell_type": "code",
   "execution_count": 53,
   "metadata": {},
   "outputs": [
    {
     "data": {
      "text/plain": [
       "aima.core.logic.fol.domain.FOLDomain@20076666"
      ]
     },
     "execution_count": 53,
     "metadata": {},
     "output_type": "execute_result"
    }
   ],
   "source": [
    "package aima.notebooks.knowledgerepresentation;\n",
    "\n",
    "import aima.core.logic.fol.domain.FOLDomain;\n",
    "\n",
    "FOLDomain domain = new FOLDomain();\n",
    "domain.addPredicate(\"Member\");\n",
    "domain.addPredicate(\"Subset\");\n",
    "domain.addPredicate(\"Disjoint\");\n",
    "domain.addPredicate(\"ExhaustiveDecomposition\");\n",
    "domain.addPredicate(\"Partition\");\n",
    "domain.addFunction(\"Intersection\");\n",
    "domain.addConstant(\"Phi\");\n",
    "return domain;"
   ]
  },
  {
   "cell_type": "markdown",
   "metadata": {},
   "source": [
    "Now let us create a knowledge base that incorporates the knowledge about categories and their partitions. We will call this categoryKb and we will improve it as we go ahead."
   ]
  },
  {
   "cell_type": "code",
   "execution_count": 81,
   "metadata": {},
   "outputs": [
    {
     "data": {
      "text/plain": [
       "x = x\n",
       "(x = y => y = x)\n",
       "((x = y AND y = z) => x = z)\n",
       "((x = y AND w = z) => Intersection(x,w) = Intersection(w,z))\n",
       "(((x = y AND v = w) AND Member(x,v)) => Member(y,w))\n",
       "(((x = y AND v = w) AND Disjoint(x,v)) => Disjoint(y,w))\n",
       "(((x = y AND v = w) AND ExhaustiveDecomposition(x,v)) => ExhaustiveDecomposition(y,w))\n",
       "(((x = y AND v = w) AND Partition(x,v)) => Partition(y,w))\n",
       "(Disjoint(s) <=> FORALL x y (((Member(x,s) AND Member(y,s)) AND NOT(x = y)) => Intersection(x,y) = Phi))\n",
       "(ExhaustiveDecomposition(s,c) <=> FORALL i (Member(i,c) => EXISTS c2 (Member(c2,s) AND Member(i,c2))))\n",
       "(Partition(s,c) <=> (Disjoint(s) AND ExhaustiveDecomposition(s)))\n",
       "(Member(x,Intersection(s,b)) <=> (Member(x,a) AND Member(x,b)))\n",
       "FORALL x NOT(Member(x,Phi))\n",
       "(Subset(a,b) <=> FORALL x (Member(x,a) => Member(x,b)))\n"
      ]
     },
     "execution_count": 81,
     "metadata": {},
     "output_type": "execute_result"
    }
   ],
   "source": [
    "package aima.notebooks.knowledgerepresentation;\n",
    "\n",
    "import aima.core.logic.fol.domain.*;\n",
    "import aima.core.logic.fol.kb.*;\n",
    "\n",
    "FOLDomain domain = Utils.getOntologyBasicDomain();\n",
    "FOLKnowledgeBase kb = new FOLKnowledgeBase(domain);\n",
    "// equality axioms\n",
    "// Reflexivity Axiom\n",
    "kb.tell(\"x = x\");\n",
    "// Symmetry Axiom\n",
    "kb.tell(\"(x = y => y = x)\");\n",
    "// Transitivity Axiom\n",
    "kb.tell(\"((x = y AND y = z) => x = z)\");\n",
    "// Function Intersection Substitution Axiom\n",
    "kb.tell(\"(( x = y AND w = z) => ( Intersection(x,w) = Intersection(w,z) ))\");\n",
    "// Predicate Substitution Axioms\n",
    "kb.tell(\"((x = y AND v = w AND Member(x,v)) => Member(y,w))\");\n",
    "kb.tell(\"((x = y AND v = w AND Disjoint(x,v)) => Disjoint(y,w))\");\n",
    "kb.tell(\"((x = y AND v = w AND ExhaustiveDecomposition(x,v)) => ExhaustiveDecomposition(y,w))\");\n",
    "kb.tell(\"((x = y AND v = w AND Partition(x,v)) => Partition(y,w))\");\n",
    "\n",
    "// Definition of disjoint Disjoint(s) ⟺ ( ∀ c1,c2 c1 ∈ s ∧ c2 ∈ s  ∧ c1 ≠ c2 ⟹ Intersection(c1,c2) = {})\n",
    "kb.tell(\" ( Disjoint(s) <=> (FORALL x,y (( Member(x,s) AND Member(y,s) AND (NOT ( x = y ))) => (Intersection(x,y) = Phi)))) \");\n",
    "\n",
    "// Definition of ExhaustiveDecomposition ExhaustiveDecomposition(s,c) ⟺ ( ∀i i ∈ c ⟺ ∃ c2 c2 ∈ s ∧ i ∈ c2 )\n",
    "kb.tell(\"(ExhaustiveDecomposition(s,c) <=> ( FORALL i ( Member(i,c) => (EXISTS c2 (Member(c2,s) AND Member(i,c2))))))\");\n",
    "\n",
    "// Definition of Partition\n",
    "kb.tell(\"(Partition(s,c) <=> ( Disjoint(s) AND ExhaustiveDecomposition(s)))\");\n",
    "\n",
    "// Definition for intersection\n",
    "kb.tell(\"( Member(x, Intersection(s,b)) <=> (Member(x,a) AND Member(x,b)))\");\n",
    "\n",
    "//Definition of Phi\n",
    "kb.tell(\"(FORALL x  NOT Member(x,Phi))\");\n",
    "\n",
    "kb.tell(\"(Subset(a,b) <=> (FORALL x (Member(x,a) => Member(x,b))))\");\n",
    "\n",
    "return kb;"
   ]
  },
  {
   "cell_type": "markdown",
   "metadata": {},
   "source": [
    "Now, let's ask our knowledge base whether **GermanShepherd** is an **animal** by telling it that **GermanShepherd is a Dog** and that **all dogs are animals**. "
   ]
  },
  {
   "cell_type": "code",
   "execution_count": 88,
   "metadata": {},
   "outputs": [
    {
     "data": {
      "text/plain": [
       "isComplete=true\n",
       "result=[{}]"
      ]
     },
     "execution_count": 88,
     "metadata": {},
     "output_type": "execute_result"
    }
   ],
   "source": [
    "import aima.notebooks.knowledgerepresentation.Utils;\n",
    "import aima.core.logic.fol.domain.*;\n",
    "import aima.core.logic.fol.kb.*;\n",
    "\n",
    "FOLDomain domain = new FOLDomain();\n",
    "domain.addConstant(\"GermanShepherd\");\n",
    "domain.addConstant(\"Dog\");\n",
    "domain.addConstant(\"Animals\");\n",
    "FOLKnowledgeBase kb = Utils.getCategoryKnowledgeBase(domain);\n",
    "kb.tell(\"Member(GermanShepherd,Dog)\");\n",
    "kb.tell(\"Subset(Dog,Animals)\");\n",
    "return kb.ask(\"Member(GermanShepherd,Animals)\");"
   ]
  },
  {
   "cell_type": "markdown",
   "metadata": {},
   "source": [
    "For future sections we will need this knowledge base with an extended domain. For this purpose, we have created some helper functionsin the Utils class at the end  of the notebook."
   ]
  },
  {
   "cell_type": "markdown",
   "metadata": {},
   "source": [
    "## Physical composition"
   ]
  },
  {
   "cell_type": "code",
   "execution_count": null,
   "metadata": {},
   "outputs": [],
   "source": []
  }
 ],
 "metadata": {
  "kernelspec": {
   "display_name": "Java",
   "language": "java",
   "name": "java"
  },
  "language_info": {
   "codemirror_mode": "text/x-java",
   "file_extension": ".java",
   "mimetype": "",
   "name": "Java",
   "nbconverter_exporter": "",
   "version": "1.8.0_161"
  },
  "toc": {
   "base_numbering": 1,
   "nav_menu": {},
   "number_sections": false,
   "sideBar": false,
   "skip_h1_title": false,
   "title_cell": "Table of Contents",
   "title_sidebar": "Contents",
   "toc_cell": false,
   "toc_position": {},
   "toc_section_display": false,
   "toc_window_display": false
  }
 },
 "nbformat": 4,
 "nbformat_minor": 2
}
