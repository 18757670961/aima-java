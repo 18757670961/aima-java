{
 "cells": [
  {
   "cell_type": "markdown",
   "metadata": {},
   "source": [
    "# ND4J and DL4J exploration"
   ]
  },
  {
   "cell_type": "markdown",
   "metadata": {},
   "source": [
    "ND4J is a tensor & N-dimensional array scientific computing library built for the JVM, and is part of the [Deeplearning4j](https://deeplearning4j.org/) suite of software. This notebook serves as the user guide to understand the main functionality of ND4J. In this notebook, we'll explore its usecases through numerous examples and then we'll discuss its usage in the project. So, let's begin with loading some essential JARs."
   ]
  },
  {
   "cell_type": "code",
   "execution_count": 5,
   "metadata": {},
   "outputs": [],
   "source": [
    "%classpath add jar ../out/artifacts/aima_core_jar/aima-core.jar\n",
    "%classpath add jar ../out/artifacts/nd4j_jar_files/nd4j-api-1.0.0-beta4.jar\n",
    "%classpath add jar ../out/artifacts/nd4j_jar_files/nd4j-buffer-1.0.0-beta4.jar\n",
    "%classpath add jar ../out/artifacts/nd4j_jar_files/nd4j-common-1.0.0-beta4.jar\n",
    "%classpath add jar ../out/artifacts/nd4j_jar_files/nd4j-context-1.0.0-beta4.jar\n",
    "%classpath add jar ../out/artifacts/nd4j_jar_files/nd4j-jackson-1.0.0-beta4.jar\n",
    "%classpath add jar ../out/artifacts/nd4j_jar_files/nd4j-native-api-1.0.0-beta4.jar"
   ]
  },
  {
   "cell_type": "markdown",
   "metadata": {},
   "source": [
    "ND4J(N-Dimensions For Java) or – as its creators present it – the “numpy” for the JVM, allows the user to create and perform various mathematical operations on N-Dimensional arrays. Throughout this notebook, we’ll use the term **NDArray** to refer to the general concept of an n-dimensional array; the term **INDArray** refers specifically to the [Java interface](https://github.com/deeplearning4j/nd4j/blob/master/nd4j-backends/nd4j-api-parent/nd4j-api/src/main/java/org/nd4j/linalg/api/ndarray/INDArray.java) that ND4J defines. In practice, these two terms can be used interchangeably. \n",
    "\n",
    "First, let's see how to create an NDArray:-"
   ]
  },
  {
   "cell_type": "markdown",
   "metadata": {},
   "source": [
    "## Creating NDArrays\n",
    "\n",
    "Before we begin with creating an NDArray, let's see some concepts you should be familiar with:\n",
    "\n",
    "* The rank of a NDArray is the number of dimensions. 2d NDArrays have a rank of 2, 3d arrays have a rank of 3, and so on. You can create NDArrays with any arbitrary rank.\n",
    "* The shape of an NDArray defines the size of each of the dimensions. Suppose we have a 2d array with 3 rows and 5 columns. This NDArray would have shape [3,5].\n",
    "* The length of an NDArray defines the total number of elements in the array. The length is always equal to the product of the values that make up the shape.\n",
    "* The stride of an NDArray is defined as the separation (in the underlying data buffer) of contiguous elements in each dimension. Stride is defined per dimension, so a rank N NDArray has N stride values, one for each dimension. Note that most of the time, you don’t need to know (or concern yourself with) the stride - just be aware that this is how ND4J operates internally.\n",
    "\n",
    "Now, let's see different ways to create an NDArray:-"
   ]
  },
  {
   "cell_type": "code",
   "execution_count": 13,
   "metadata": {},
   "outputs": [
    {
     "ename": "ERROR",
     "evalue": " java.lang.NoClassDefFoundError",
     "output_type": "error",
     "traceback": [
      "\u001b[1;31mERROR: java.lang.NoClassDefFoundError: org/bytedeco/javacpp/Pointer\u001b[0;0m"
     ]
    }
   ],
   "source": [
    "import org.nd4j.linalg.api.ndarray.INDArray;\n",
    "import org.nd4j.linalg.factory.Nd4j;\n",
    "\n",
    "import java.util.Arrays;\n",
    "\n",
    "//Here, we'll see how to create INDArrays with different scalar value initializations\n",
    "int nRows = 3;\n",
    "int nColumns = 5;\n",
    "INDArray allZeros = Nd4j.zeros(nRows, nColumns);\n",
    "System.out.println(\"Nd4j.zeros(nRows, nColumns)\");\n",
    "System.out.println(allZeros);\n",
    "\n",
    "INDArray allOnes = Nd4j.ones(nRows, nColumns);\n",
    "System.out.println(\"\\nNd4j.ones(nRows, nColumns)\");\n",
    "System.out.println(allOnes);\n",
    "\n",
    "INDArray allTens = Nd4j.valueArrayOf(nRows, nColumns, 10.0);\n",
    "System.out.println(\"\\nNd4j.valueArrayOf(nRows, nColumns, 10.0)\");\n",
    "System.out.println(allTens);\n",
    "\n",
    "//We can also create INDArrays from double[] and double[][] (or, float/int etc Java arrays)\n",
    "\n",
    "double[] vectorDouble = new double[]{1,2,3};\n",
    "INDArray rowVector = Nd4j.create(vectorDouble);\n",
    "System.out.println(\"rowVector:              \" + rowVector);\n",
    "System.out.println(\"rowVector.shape():      \" + Arrays.toString(rowVector.shape()));//1 row, 3 columns\n",
    "\n",
    "INDArray columnVector = Nd4j.create(vectorDouble, new int[]{3,1});  \n",
    "System.out.println(\"columnVector:           \" + columnVector);      \n",
    "System.out.println(\"columnVector.shape():   \" + Arrays.toString(columnVector.shape()));//3 row, 1 columns\n",
    "\n",
    "double[][] matrixDouble = new double[][]{\n",
    "    {1.0, 2.0, 3.0},\n",
    "    {4.0, 5.0, 6.0}};\n",
    "INDArray matrix = Nd4j.create(matrixDouble);\n",
    "System.out.println(\"\\nINDArray defined from double[][]:\");\n",
    "System.out.println(matrix);\n",
    "\n",
    "//It is also possible to create random INDArrays:\n",
    "\n",
    "int[] shape = new int[]{nRows, nColumns};\n",
    "INDArray uniformRandom = Nd4j.rand(shape);\n",
    "System.out.println(\"\\n\\n\\nUniform random array:\");\n",
    "System.out.println(uniformRandom);\n",
    "System.out.println(\"Full precision of random value at position (0,0): \" + uniformRandom.getDouble(0,0));\n",
    "\n",
    "INDArray gaussianMeanZeroUnitVariance = Nd4j.randn(shape);\n",
    "System.out.println(\"\\nN(0,1) random array:\");\n",
    "System.out.println(gaussianMeanZeroUnitVariance);\n",
    "\n",
    "//We can create INDArrays by combining other INDArrays, too:\n",
    "\n",
    "INDArray rowVector1 = Nd4j.create(new double[]{1,2,3});\n",
    "INDArray rowVector2 = Nd4j.create(new double[]{4,5,6});\n",
    "\n",
    "INDArray vStack = Nd4j.vstack(rowVector1, rowVector2);//Vertical stack:   [1,3]+[1,3] to [2,3]\n",
    "INDArray hStack = Nd4j.hstack(rowVector1, rowVector2);//Horizontal stack: [1,3]+[1,3] to [1,6]\n",
    "System.out.println(\"\\n\\n\\nCreating INDArrays from other INDArrays, using hstack and vstack:\");\n",
    "System.out.println(\"vStack:\\n\" + vStack);\n",
    "System.out.println(\"hStack:\\n\" + hStack);\n",
    "\n",
    "\n",
    "//There's some other miscellaneous methods, too:\n",
    "\n",
    "INDArray identityMatrix = Nd4j.eye(3);\n",
    "System.out.println(\"\\n\\n\\nNd4j.eye(3):\\n\" + identityMatrix);\n",
    "INDArray linspace = Nd4j.linspace(1,10,10);         //Values 1 to 10, in 10 steps\n",
    "System.out.println(\"Nd4j.linspace(1,10,10):\\n\" + linspace);\n",
    "INDArray diagMatrix = Nd4j.diag(rowVector2);        //Create square matrix, with rowVector2 along the diagonal\n",
    "System.out.println(\"Nd4j.diag(rowVector2):\\n\" + diagMatrix);"
   ]
  },
  {
   "cell_type": "code",
   "execution_count": null,
   "metadata": {},
   "outputs": [],
   "source": []
  }
 ],
 "metadata": {
  "kernelspec": {
   "display_name": "Java",
   "language": "java",
   "name": "java"
  },
  "language_info": {
   "codemirror_mode": "text/x-java",
   "file_extension": ".java",
   "mimetype": "",
   "name": "Java",
   "nbconverter_exporter": "",
   "version": "1.8.0_144"
  },
  "toc": {
   "base_numbering": 1,
   "nav_menu": {},
   "number_sections": false,
   "sideBar": false,
   "skip_h1_title": false,
   "title_cell": "Table of Contents",
   "title_sidebar": "Contents",
   "toc_cell": false,
   "toc_position": {},
   "toc_section_display": false,
   "toc_window_display": false
  }
 },
 "nbformat": 4,
 "nbformat_minor": 2
}
