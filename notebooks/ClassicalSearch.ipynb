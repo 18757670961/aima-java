{
 "cells": [
  {
   "cell_type": "markdown",
   "metadata": {},
   "source": [
    "# Classical Search"
   ]
  },
  {
   "cell_type": "markdown",
   "metadata": {},
   "source": [
    "This notebook serves as a supporting material for the chapter **Solving Problems by Searching**. The notebooks illustrate the use of the code repository and demonstrate how the code can be extended to solve various search related problems. The discussion of problem solving begins with a precise implementation of **problems** and their **solutions**. Then we move onto various **informed** and **uninformed** search strategies for solving problems."
   ]
  },
  {
   "cell_type": "code",
   "execution_count": 61,
   "metadata": {},
   "outputs": [],
   "source": [
    "%classpath add jar ../out/artifacts/aima_core_jar/aima-core.jar"
   ]
  },
  {
   "cell_type": "markdown",
   "metadata": {},
   "source": [
    "## Problem Solving Agents\n",
    "\n",
    "The process of looking for a sequence of **actions** that reaches the **goal** is called **search**.\n",
    "A search algorithm takes a problem as input and returns a solution in the form of an action\n",
    "sequence. Once a solution is found, the actions it recommends can be carried out. This\n",
    "is called the execution phase. Thus, we have a simple “formulate, search, execute” design\n",
    "for the agent, as shown in Figure 3.1 of the textbook. After formulating a goal and a problem to solve,\n",
    "the agent calls a search procedure to solve it. It then uses the solution to guide its actions,\n",
    "doing whatever the solution recommends as the next thing to do—typically, the first action of\n",
    "the sequence—and then removing that step from the sequence. Once the solution has been\n",
    "executed, the agent will formulate a new goal."
   ]
  },
  {
   "cell_type": "markdown",
   "metadata": {},
   "source": [
    "Let's have a look at the pseudocode of a simple problem solving agent and then see it's java implementation."
   ]
  },
  {
   "cell_type": "code",
   "execution_count": 7,
   "metadata": {},
   "outputs": [
    {
     "data": {
      "text/markdown": [
       "### AIMA3e\n",
       "__function__ SIMPLE-PROBLEM-SOLVING-AGENT(_percept_) __returns__ an action  \n",
       "&emsp;__persistent__: _seq_, an action sequence, initially empty  \n",
       "&emsp;&emsp;&emsp;&emsp;&emsp;&emsp;_state_, some description of the current world state  \n",
       "&emsp;&emsp;&emsp;&emsp;&emsp;&emsp;_goal_, a goal, initially null  \n",
       "&emsp;&emsp;&emsp;&emsp;&emsp;&emsp;_problem_, a problem formulation\n",
       "\n",
       "&emsp;_state_ &larr; UPDATE-STATE(_state_, _percept_)  \n",
       "&emsp;__if__ _seq_ is empty __then__  \n",
       "&emsp;&emsp;&emsp;_goal_ &larr; FORMULATE-GOAL(_state_)  \n",
       "&emsp;&emsp;&emsp;_problem_ &larr; FORMULATE-PROBLEM(_state_, _goal_)  \n",
       "&emsp;&emsp;&emsp;_seq_ &larr; SEARCH(_problem_)  \n",
       "&emsp;&emsp;&emsp;__if__ _seq_ = _failure_ __then return__ a null action  \n",
       "&emsp;_action_ &larr; FIRST(_seq_)  \n",
       "&emsp;_seq_ &larr; REST(_seq_)  \n",
       "&emsp;__return__ _action_  \n",
       "\n",
       "---\n",
       "__Figure__ ?? A simple problem-solving agent. It first formulates a goal and a problem, searches for a sequence of actions that would solve the problem, and then executes the actions one at a time. When this is complete, it formulates another goal and starts over."
      ],
      "text/plain": [
       "<IPython.core.display.Markdown object>"
      ]
     },
     "execution_count": 3,
     "metadata": {},
     "output_type": "execute_result"
    }
   ],
   "source": [
    "%%python\n",
    "from notebookUtils import *\n",
    "pseudocode('Simple Problem Solving Agent')"
   ]
  },
  {
   "cell_type": "markdown",
   "metadata": {},
   "source": [
    "The implementation of the above pseudocode can be viewed [here](https://github.com/aimacode/aima-java/blob/AIMA3e/aima-core/src/main/java/aima/core/search/agent/SimpleProblemSolvingAgent.java). This agent is implemented as an abstract agent which can be extended to construct other agents."
   ]
  },
  {
   "cell_type": "markdown",
   "metadata": {},
   "source": [
    "### Well-defined problems and solutions\n",
    "We will first formally define a problem. Then, we will have a look at how the code from the repository can be used to formulate new problems. Then, we will have a look at various toy problems which are already present in the code repository.\n",
    "\n",
    "As per the textbook, a **problem** can be defined formally by five components. The initial state, applicable actions, the transition model, the goal test and the path cost function. This five component structure is implemented as an interface named [Problem.java]() in the repository. Let's have a look at the implementation"
   ]
  },
  {
   "cell_type": "markdown",
   "metadata": {},
   "source": [
    "````java\n",
    "public interface Problem<S, A> extends OnlineSearchProblem<S, A> {\n",
    "\n",
    "    /**\n",
    "     * Returns the initial state of the agent.\n",
    "     */\n",
    "    S getInitialState();\n",
    "\n",
    "    /**\n",
    "     * Returns the description of the possible actions available to the agent.\n",
    "     */\n",
    "    List<A> getActions(S state);\n",
    "\n",
    "    /**\n",
    "     * Returns the description of what each action does.\n",
    "     */\n",
    "    S getResult(S state, A action);\n",
    "\n",
    "    /**\n",
    "     * Determines whether a given state is a goal state.\n",
    "     */\n",
    "    boolean testGoal(S state);\n",
    "\n",
    "    /**\n",
    "     * Returns the <b>step cost</b> of taking action <code>action</code> in state <code>state</code> to reach state\n",
    "     * <code>stateDelta</code> denoted by c(s, a, s').\n",
    "     */\n",
    "    double getStepCosts(S state, A action, S stateDelta);\n",
    "\n",
    "    /**\n",
    "     * Tests whether a node represents an acceptable solution. The default implementation\n",
    "     * delegates the check to the goal test. Other implementations could make use of the additional\n",
    "     * information given by the node (e.g. the sequence of actions leading to the node). A\n",
    "     * solution tester implementation could for example always return false and internally collect\n",
    "     * the paths of all nodes whose state passes the goal test. Search implementations should always\n",
    "     * access the goal test via this method to support solution acceptance testing.\n",
    "     */\n",
    "    default boolean testSolution(Node<S, A> node) {\n",
    "        return testGoal(node.getState());\n",
    "    }\n",
    "}\n",
    "````"
   ]
  },
  {
   "cell_type": "markdown",
   "metadata": {},
   "source": [
    "The states and actions are represented by the generic variables `S` and `A` respectively. Clearly, the methods represent the\n",
    "five components of a particular problem as follows:\n",
    "* initial state &larr; `getInitialState()`\n",
    "* applicable actions &larr; `getActions(S state)`\n",
    "* the transition model &larr; `getResult(S state, A action)`\n",
    "* the goal test &larr; `testGoal(S state)`\n",
    "* path cost function &larr; `getStepCosts(S state, A action, S stateDelta)`"
   ]
  },
  {
   "cell_type": "markdown",
   "metadata": {},
   "source": [
    "## Example Problems\n",
    "\n",
    "A **toy problem** is intended to illustrate or exercise various problem solving methods. Let's extend the `Problem` interface to implement a toy problem. Let's implement the **8 puzzle problem** which consists of a 3x3 board with eight numbered tiles and a blank space. It has the following five components:\n",
    "* **States**: A state description specifies the location of each of the eight tiles and the blank in one of the nine squares.\n",
    "* **Initial state**: Any state can be designated as the initial state. Note that any given goal can be reached from exactly half of the possible initial states. (proved in Exercise 3.4)\n",
    "* **Actions**: The simplest formulation defines the actions as movements of the blank space Left, Right, Up, or Down. Different subsets of these are possible depending on where the blank is.\n",
    "* **Transition model**: Given a state and action, this returns the resulting state.\n",
    "* **Path cost**: Each step costs 1, so the path cost is the number of steps in the path.\n",
    "\n",
    "Let's look at the implementation:\n"
   ]
  },
  {
   "cell_type": "markdown",
   "metadata": {},
   "source": [
    "First we implement the states and actions applicable to the problem. The actions can be implemented as an enum whereas the states can be represented as an array of ints."
   ]
  },
  {
   "cell_type": "code",
   "execution_count": 52,
   "metadata": {},
   "outputs": [
    {
     "data": {
      "text/plain": [
       "aima.notebooks.classicalsearch.EightPuzzleProblem"
      ]
     },
     "execution_count": 52,
     "metadata": {},
     "output_type": "execute_result"
    }
   ],
   "source": [
    "package aima.notebooks.classicalsearch;\n",
    "\n",
    "import java.util.ArrayList;\n",
    "import java.util.Arrays;\n",
    "import java.util.List;\n",
    "import aima.core.search.framework.problem.Problem;\n",
    "\n",
    "public class EightPuzzleProblem implements Problem<int[], EightPuzzleProblem.Action> {\n",
    "\n",
    "    // This array represents the state\n",
    "    int[] initialState = new int[9];\n",
    "    \n",
    "    /**\n",
    "    * This enum represents the Action datatype\n",
    "    */\n",
    "    public enum Action {\n",
    "        LEFT, RIGHT, UP, DOWN\n",
    "    }\n",
    "    \n",
    "    // A constructor for the problem\n",
    "    public EightPuzzleProblem(int[] initialState){\n",
    "        this.initialState = initialState;\n",
    "    }\n",
    "\n",
    "    // Component One : The initial state.\n",
    "    @Override\n",
    "    public int[] getInitialState() {\n",
    "        return initialState;\n",
    "    }\n",
    "\n",
    "    // Component Two : Applicable Actions\n",
    "    @Override\n",
    "    public List<Action> getActions(int[] state) {\n",
    "        List<Action> actions = new ArrayList<>();\n",
    "        if (this.canMoveGap(state, Action.UP))\n",
    "            actions.add(Action.UP);\n",
    "        if (this.canMoveGap(state, Action.DOWN))\n",
    "            actions.add(Action.DOWN);\n",
    "        if (this.canMoveGap(state, Action.LEFT))\n",
    "            actions.add(Action.LEFT);\n",
    "        if (this.canMoveGap(state, Action.RIGHT))\n",
    "            actions.add(Action.RIGHT);\n",
    "        return actions;\n",
    "    }\n",
    "\n",
    "    // Component Three : Transition Model\n",
    "    @Override\n",
    "    public int[] getResult(int[] state, Action action) {\n",
    "        int[] result = state.clone();\n",
    "\n",
    "        if (Action.UP.equals(action) && canMoveGap(state, Action.UP))\n",
    "            moveGapUp(result);\n",
    "        else if (Action.DOWN.equals(action) && canMoveGap(state, Action.DOWN))\n",
    "            moveGapDown(result);\n",
    "        else if (Action.LEFT.equals(action) && canMoveGap(state, Action.LEFT))\n",
    "            moveGapLeft(result);\n",
    "        else if (Action.RIGHT.equals(action) && canMoveGap(state, Action.RIGHT))\n",
    "            moveGapRight(result);\n",
    "        return result;\n",
    "    }\n",
    "    \n",
    "    // Component Four : Goal Test\n",
    "    @Override\n",
    "    public boolean testGoal(int[] state) {\n",
    "        return Arrays.equals(state, new int[]{0, 1, 2, 3, 4, 5, 6, 7, 8});\n",
    "    }\n",
    "\n",
    "    // Component Five : Path cost function\n",
    "    @Override\n",
    "    public double getStepCosts(int[] state, Action action, int[] stateDelta) {\n",
    "        return 1.0;\n",
    "    }\n",
    "\n",
    "    private void moveGapRight(int[] result) {\n",
    "        int gapPos = getGapPosition(result);\n",
    "        int x = gapPos / 3;\n",
    "        int y = gapPos % 3;\n",
    "        if (!(y == 2)) {\n",
    "            int valueOnRight = result[x * 3 + y + 1];\n",
    "            setValue(result, x, y, valueOnRight);\n",
    "            setValue(result, x, y + 1, 0);\n",
    "        }\n",
    "    }\n",
    "\n",
    "    // All the methods below are just helper methods which aid the above necessary methods.\n",
    "    \n",
    "    // To move the gap to the left.\n",
    "    private void moveGapLeft(int[] result) {\n",
    "        int gapPos = getGapPosition(result);\n",
    "        int x = gapPos / 3;\n",
    "        int y = gapPos % 3;\n",
    "        if (!(y == 0)) {\n",
    "            int valueOnLeft = result[x * 3 + (y - 1)];\n",
    "            setValue(result, x, y, valueOnLeft);\n",
    "            setValue(result, x, y - 1, 0);\n",
    "        }\n",
    "    }\n",
    "\n",
    "    // To move the gap to the cell below.\n",
    "    private void moveGapDown(int[] result) {\n",
    "        int gapPos = getGapPosition(result);\n",
    "        int x = gapPos / 3;\n",
    "        int y = gapPos % 3;\n",
    "        if (!(x == 2)) {\n",
    "            int valueOnBottom = result[(x + 1) * 3 + y];\n",
    "            setValue(result, x, y, valueOnBottom);\n",
    "            setValue(result, x + 1, y, 0);\n",
    "        }\n",
    "    }\n",
    "\n",
    "    // To get the current location of the gap\n",
    "    private int getGapPosition(int[] state) {\n",
    "        return getPositionOf(state, 0);\n",
    "    }\n",
    "\n",
    "    // To get the position of any particular number.\n",
    "    private int getPositionOf(int[] state, int val) {\n",
    "        for (int i = 0; i < 9; i++)\n",
    "            if (state[i] == val)\n",
    "                return i;\n",
    "        return -1;\n",
    "    }\n",
    "\n",
    "    // To check if we can move the gap to the position specified by where\n",
    "    public boolean canMoveGap(int[] state, Action where) {\n",
    "        boolean retVal = true;\n",
    "        int absPos = getPositionOf(state, 0);\n",
    "        if (where.equals(Action.LEFT))\n",
    "            retVal = (absPos % 3 != 0);\n",
    "        else if (where.equals(Action.RIGHT))\n",
    "            retVal = (absPos % 3 != 2);\n",
    "        else if (where.equals(Action.UP))\n",
    "            retVal = ((absPos / 3) != 0);\n",
    "        else if (where.equals(Action.DOWN))\n",
    "            retVal = ((absPos / 3) != 2);\n",
    "        return retVal;\n",
    "    }\n",
    "\n",
    "    // To move the gap to the cell above.\n",
    "    public void moveGapUp(int[] result) {\n",
    "        int gapPos = getGapPosition(result);\n",
    "        int x = gapPos / 3;\n",
    "        int y = gapPos % 3;\n",
    "        if (!(x == 0)) {\n",
    "            int valueOnTop = result[(x - 1) * 3 + y];\n",
    "            setValue(result, x, y, valueOnTop);\n",
    "            setValue(result, x - 1, y, 0);\n",
    "        }\n",
    "    }\n",
    "\n",
    "    // To set the value of a particular cell.\n",
    "    private void setValue(int[] result, int x, int y, int valueOnTop) {\n",
    "        int absPos = x *3 + y;\n",
    "        result[absPos] = valueOnTop;\n",
    "    }\n",
    "}\n",
    "\n"
   ]
  },
  {
   "cell_type": "markdown",
   "metadata": {},
   "source": [
    "So, in this way we can implement a Problem. Now let us see our problem class in action"
   ]
  },
  {
   "cell_type": "code",
   "execution_count": 57,
   "metadata": {},
   "outputs": [
    {
     "name": "stdout",
     "output_type": "stream",
     "text": [
      "Initial State = [5, 4, 0, 6, 1, 8, 7, 3, 2]\n",
      "Available Actions = [DOWN, LEFT]\n",
      "Resulting State = [5, 4, 8, 6, 1, 0, 7, 3, 2]\n",
      "isGoal\tfalse\n"
     ]
    },
    {
     "data": {
      "text/plain": [
       "null"
      ]
     },
     "execution_count": 57,
     "metadata": {},
     "output_type": "execute_result"
    }
   ],
   "source": [
    "import aima.notebooks.classicalsearch.EightPuzzleProblem;\n",
    "import java.util.*;\n",
    "\n",
    "int [] initialState = new int[] { 5, 4, 0, 6, 1, 8, 7, 3, 2 };\n",
    "\n",
    "EightPuzzleProblem problem = new EightPuzzleProblem(initialState);\n",
    "\n",
    "System.out.println(\"Initial State = \" + Arrays.toString(problem.getInitialState()));\n",
    "System.out.println(\"Available Actions = \" + problem.getActions(initialState).toString());\n",
    "System.out.println(\"Resulting State = \" + Arrays.toString(problem.getResult(initialState,problem.getActions(initialState).get(0))));\n",
    "System.out.println(\"isGoal\\t\"+ problem.testGoal(initialState));"
   ]
  },
  {
   "cell_type": "markdown",
   "metadata": {},
   "source": [
    "We have seen how we can implement the existing problem interface to create and define our own custom problems. The flexibility to define our own custom problem is necessary for experimentation. However, the code repository already includes robust implementations of a variety of search problems and their environments. For all the future purposes we will use the existing implementations as they are more robust and complex and have been thoroughly tested for errors. Now let's have a look at some of the common search problems and how they can be directly used from the code repository."
   ]
  },
  {
   "cell_type": "markdown",
   "metadata": {},
   "source": [
    "The [`GeneralProblem`](https://github.com/aimacode/aima-java/blob/AIMA3e/aima-core/src/main/java/aima/core/search/framework/problem/GeneralProblem.java) class can be used to create the existing problems. The problem parameters can be passed as constructor arguements."
   ]
  },
  {
   "cell_type": "markdown",
   "metadata": {},
   "source": [
    "#### The Eight Puzzle Problem\n",
    "\n",
    "The eight puzzle problem can be constructed from the GeneralProblem class as follows:"
   ]
  },
  {
   "cell_type": "code",
   "execution_count": 74,
   "metadata": {},
   "outputs": [
    {
     "name": "stdout",
     "output_type": "stream",
     "text": [
      "Initial State = [7, 1, 8, 0, 4, 6, 2, 3, 5]\n",
      "Available Actions = [Action[name=Up], Action[name=Down], Action[name=Right]]\n",
      "Resulting State = [0, 1, 8, 7, 4, 6, 2, 3, 5]\n",
      "isGoal\tfalse\n"
     ]
    },
    {
     "data": {
      "text/plain": [
       "null"
      ]
     },
     "execution_count": 74,
     "metadata": {},
     "output_type": "execute_result"
    }
   ],
   "source": [
    "import aima.core.environment.eightpuzzle.EightPuzzleBoard;\n",
    "import aima.core.environment.eightpuzzle.EightPuzzleFunctions;\n",
    "import aima.core.agent.Action;\n",
    "import aima.core.search.framework.problem.GoalTest;\n",
    "import aima.core.search.framework.problem.GeneralProblem;\n",
    "import aima.core.search.framework.problem.Problem;\n",
    "import java.util.*;\n",
    "\n",
    "\n",
    "EightPuzzleBoard board = new EightPuzzleBoard(new int[] { 7, 1, 8, 0, 4, 6, 2, 3, 5 });\n",
    "Problem<EightPuzzleBoard, Action> problem = new GeneralProblem<>(board, EightPuzzleFunctions::getActions,\n",
    "                                                                 EightPuzzleFunctions::getResult,\n",
    "                                                                 GoalTest.isEqual(EightPuzzleFunctions.GOAL_STATE));\n",
    "System.out.println(\"Initial State = \" + Arrays.toString(problem.getInitialState().getState()));\n",
    "System.out.println(\"Available Actions = \" + problem.getActions(problem.getInitialState()).toString());\n",
    "System.out.println(\"Resulting State = \" + Arrays.toString(problem.getResult(problem.getInitialState(),\n",
    "                                                                            problem.getActions(problem.getInitialState()).get(0))\n",
    "                                                          .getState()));\n",
    "System.out.println(\"isGoal\\t\"+ problem.testGoal(problem.getInitialState()));\n"
   ]
  },
  {
   "cell_type": "markdown",
   "metadata": {},
   "source": [
    "#### The NQueens Problem\n",
    "\n",
    "The goal of the **n-queens problem** is to place n-queens on an nxn chessboard such that no queens attacks any other. The n-queens problem can be formulated as follows:"
   ]
  },
  {
   "cell_type": "code",
   "execution_count": 85,
   "metadata": {},
   "outputs": [
    {
     "name": "stdout",
     "output_type": "stream",
     "text": [
      "Initial State \n",
      "\t ---\n",
      "---\n",
      "---\n",
      "\n",
      "Available Actions \n",
      "\t [Action[name=placeQueenAt, location=(0, 0)], Action[name=placeQueenAt, location=(0, 1)], Action[name=placeQueenAt, location=(0, 2)]]\n",
      "\n",
      "\n",
      "Resulting State \n",
      "\t Q--\n",
      "---\n",
      "---\n",
      "\n",
      "isGoal\tfalse\n"
     ]
    },
    {
     "data": {
      "text/plain": [
       "null"
      ]
     },
     "execution_count": 85,
     "metadata": {},
     "output_type": "execute_result"
    }
   ],
   "source": [
    "import aima.core.agent.Action;\n",
    "import aima.core.environment.nqueens.*;\n",
    "import aima.core.search.framework.problem.*;\n",
    "import java.util.*;\n",
    "\n",
    "Problem<NQueensBoard, QueenAction> problem = new GeneralProblem<>(new NQueensBoard(3),\n",
    "                                                                  NQueensFunctions::getIFActions,\n",
    "                                                                  NQueensFunctions::getResult, NQueensFunctions::testGoal);\n",
    "\n",
    "System.out.println(\"Initial State \\n\\t \" + problem.getInitialState().toString());\n",
    "System.out.println(\"Available Actions \\n\\t \" + problem.getActions(problem.getInitialState()).toString());\n",
    "System.out.println(\"\\n\\nResulting State \\n\\t \" + problem.getResult(problem.getInitialState(),\n",
    "                                                                   problem.getActions(problem.getInitialState()).get(0)).toString());\n",
    "System.out.println(\"isGoal\\t\"+ problem.testGoal(problem.getInitialState()));"
   ]
  },
  {
   "cell_type": "markdown",
   "metadata": {},
   "source": [
    "#### Route finding problem (Romania)\n",
    "Route-finding algorithms are used in a variety\n",
    "of applications. Some, such as Web sites and in-car systems that provide driving directions,\n",
    "are relatively straightforward extensions of the Romania example. Others, such as routing\n",
    "video streams in computer networks, military operations planning, and airline travel-planning\n",
    "systems, involve much more complex specifications. Now let us formulate the map of Romania Problem: "
   ]
  },
  {
   "cell_type": "code",
   "execution_count": 92,
   "metadata": {},
   "outputs": [
    {
     "name": "stdout",
     "output_type": "stream",
     "text": [
      "Initial State  Arad\n",
      "\n",
      "\n",
      "Available Actions \n",
      " [Action[name=moveTo, location=Sibiu], Action[name=moveTo, location=Timisoara], Action[name=moveTo, location=Zerind]]\n",
      "\n",
      "\n",
      "Resulting State  Sibiu\n",
      "\n",
      "\n",
      "isGoal\tfalse\n"
     ]
    },
    {
     "data": {
      "text/plain": [
       "null"
      ]
     },
     "execution_count": 92,
     "metadata": {},
     "output_type": "execute_result"
    }
   ],
   "source": [
    "import aima.core.environment.map.*;\n",
    "import aima.core.search.framework.problem.*;\n",
    "\n",
    "Map romaniaMap = new SimplifiedRoadMapOfPartOfRomania();\n",
    "Problem<String, MoveToAction> problem = new GeneralProblem<>(\n",
    "\t\t\t\tSimplifiedRoadMapOfPartOfRomania.ARAD,\n",
    "\t\t\t\tMapFunctions.createActionsFunction(romaniaMap),\n",
    "\t\t\t\tMapFunctions.createResultFunction(),\n",
    "\t\t\t\tGoalTest.isEqual(SimplifiedRoadMapOfPartOfRomania.BUCHAREST),\n",
    "\t\t\t\tMapFunctions.createDistanceStepCostFunction(romaniaMap));\n",
    "\n",
    "System.out.println(\"Initial State  \" + problem.getInitialState().toString());\n",
    "System.out.println(\"\\n\\nAvailable Actions \\n \" + problem.getActions(problem.getInitialState()).toString());\n",
    "System.out.println(\"\\n\\nResulting State  \" + problem.getResult(problem.getInitialState(),\n",
    "                                                                   problem.getActions(problem.getInitialState()).get(0)).toString());\n",
    "System.out.println(\"\\n\\nisGoal\\t\"+ problem.testGoal(problem.getInitialState()));"
   ]
  },
  {
   "cell_type": "code",
   "execution_count": null,
   "metadata": {},
   "outputs": [],
   "source": []
  }
 ],
 "metadata": {
  "kernelspec": {
   "display_name": "Java",
   "language": "java",
   "name": "java"
  },
  "language_info": {
   "codemirror_mode": "text/x-java",
   "file_extension": ".java",
   "mimetype": "",
   "name": "Java",
   "nbconverter_exporter": "",
   "version": "1.8.0_161"
  },
  "toc": {
   "base_numbering": 1,
   "nav_menu": {},
   "number_sections": false,
   "sideBar": false,
   "skip_h1_title": false,
   "title_cell": "Table of Contents",
   "title_sidebar": "Contents",
   "toc_cell": false,
   "toc_position": {},
   "toc_section_display": false,
   "toc_window_display": false
  }
 },
 "nbformat": 4,
 "nbformat_minor": 2
}
