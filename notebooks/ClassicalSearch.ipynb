{
 "cells": [
  {
   "cell_type": "markdown",
   "metadata": {},
   "source": [
    "# Classical Search"
   ]
  },
  {
   "cell_type": "markdown",
   "metadata": {},
   "source": [
    "This notebook serves as a supporting material for the chapter **Solving Problems by Searching**. The notebooks illustrate the use of the code repository and demonstrate how the code can be extended to solve various search related problems. The discussion of problem solving begins with a precise implementation of **problems** and their **solutions**. Then we move onto various **informed** and **uninformed** search strategies for solving problems."
   ]
  },
  {
   "cell_type": "markdown",
   "metadata": {},
   "source": [
    "## Problem Solving Agents\n",
    "\n",
    "The process of looking for a sequence of **actions** that reaches the **goal** is called **search**.\n",
    "A search algorithm takes a problem as input and returns a solution in the form of an action\n",
    "sequence. Once a solution is found, the actions it recommends can be carried out. This\n",
    "is called the execution phase. Thus, we have a simple “formulate, search, execute” design\n",
    "for the agent, as shown in Figure 3.1 of the textbook. After formulating a goal and a problem to solve,\n",
    "the agent calls a search procedure to solve it. It then uses the solution to guide its actions,\n",
    "doing whatever the solution recommends as the next thing to do—typically, the first action of\n",
    "the sequence—and then removing that step from the sequence. Once the solution has been\n",
    "executed, the agent will formulate a new goal."
   ]
  },
  {
   "cell_type": "markdown",
   "metadata": {},
   "source": [
    "Let's have a look at the pseudocode of a simple problem solving agent and then see it's java implementation."
   ]
  },
  {
   "cell_type": "code",
   "execution_count": 7,
   "metadata": {},
   "outputs": [
    {
     "data": {
      "text/markdown": [
       "### AIMA3e\n",
       "__function__ SIMPLE-PROBLEM-SOLVING-AGENT(_percept_) __returns__ an action  \n",
       "&emsp;__persistent__: _seq_, an action sequence, initially empty  \n",
       "&emsp;&emsp;&emsp;&emsp;&emsp;&emsp;_state_, some description of the current world state  \n",
       "&emsp;&emsp;&emsp;&emsp;&emsp;&emsp;_goal_, a goal, initially null  \n",
       "&emsp;&emsp;&emsp;&emsp;&emsp;&emsp;_problem_, a problem formulation\n",
       "\n",
       "&emsp;_state_ &larr; UPDATE-STATE(_state_, _percept_)  \n",
       "&emsp;__if__ _seq_ is empty __then__  \n",
       "&emsp;&emsp;&emsp;_goal_ &larr; FORMULATE-GOAL(_state_)  \n",
       "&emsp;&emsp;&emsp;_problem_ &larr; FORMULATE-PROBLEM(_state_, _goal_)  \n",
       "&emsp;&emsp;&emsp;_seq_ &larr; SEARCH(_problem_)  \n",
       "&emsp;&emsp;&emsp;__if__ _seq_ = _failure_ __then return__ a null action  \n",
       "&emsp;_action_ &larr; FIRST(_seq_)  \n",
       "&emsp;_seq_ &larr; REST(_seq_)  \n",
       "&emsp;__return__ _action_  \n",
       "\n",
       "---\n",
       "__Figure__ ?? A simple problem-solving agent. It first formulates a goal and a problem, searches for a sequence of actions that would solve the problem, and then executes the actions one at a time. When this is complete, it formulates another goal and starts over."
      ],
      "text/plain": [
       "<IPython.core.display.Markdown object>"
      ]
     },
     "execution_count": 3,
     "metadata": {},
     "output_type": "execute_result"
    }
   ],
   "source": [
    "%%python\n",
    "from notebookUtils import *\n",
    "pseudocode('Simple Problem Solving Agent')"
   ]
  },
  {
   "cell_type": "markdown",
   "metadata": {},
   "source": [
    "The implementation of the above pseudocode can be viewed [here](https://github.com/aimacode/aima-java/blob/AIMA3e/aima-core/src/main/java/aima/core/search/agent/SimpleProblemSolvingAgent.java). This agent is implemented as an abstract agent which can be extended to construct other agents."
   ]
  },
  {
   "cell_type": "code",
   "execution_count": null,
   "metadata": {},
   "outputs": [],
   "source": []
  }
 ],
 "metadata": {
  "kernelspec": {
   "display_name": "Java",
   "language": "java",
   "name": "java"
  },
  "language_info": {
   "codemirror_mode": "text/x-java",
   "file_extension": ".java",
   "mimetype": "",
   "name": "Java",
   "nbconverter_exporter": "",
   "version": "1.8.0_161"
  },
  "toc": {
   "base_numbering": 1,
   "nav_menu": {},
   "number_sections": false,
   "sideBar": false,
   "skip_h1_title": false,
   "title_cell": "Table of Contents",
   "title_sidebar": "Contents",
   "toc_cell": false,
   "toc_position": {},
   "toc_section_display": false,
   "toc_window_display": false
  }
 },
 "nbformat": 4,
 "nbformat_minor": 2
}
