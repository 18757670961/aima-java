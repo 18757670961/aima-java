{
 "cells": [
  {
   "cell_type": "markdown",
   "metadata": {},
   "source": [
    "# Constraint Satisfaction Problems"
   ]
  },
  {
   "cell_type": "markdown",
   "metadata": {},
   "source": [
    "This notebook serves as a supporting material for Chapter 6 **Constraint Satisfaction Problems**. In this notebook, we demonstrate how the [csp package][1] can be used to solve problems that can be formulated as CSPs. We use **factored representation** for the states in a CSP. We will see that by deviating from the notion of atomic states, we can use general purpose inference techniques and search heuristics to solve any CSP. Hence, a CSP solver can be used to solve any problem once it has been formulated as a CSP. Let's begin by loading the `aima-core` jar file.\n",
    "\n",
    "[1]: https://github.com/aimacode/aima-java/tree/AIMA3e/aima-core/src/main/java/aima/core/search/csp"
   ]
  },
  {
   "cell_type": "code",
   "execution_count": 1,
   "metadata": {},
   "outputs": [
    {
     "data": {
      "application/vnd.jupyter.widget-view+json": {
       "model_id": "df53986f-fde3-49ee-97f9-bebdc0ae315d",
       "version_major": 2,
       "version_minor": 0
      },
      "method": "display_data"
     },
     "metadata": {},
     "output_type": "display_data"
    }
   ],
   "source": [
    "%classpath add jar ../out/artifacts/aima_core_jar/aima-core.jar"
   ]
  },
  {
   "cell_type": "markdown",
   "metadata": {},
   "source": [
    "# Defining constraint Satisfaction Problems "
   ]
  },
  {
   "cell_type": "markdown",
   "metadata": {},
   "source": [
    "Let's begin with formally defining a CSP. Later, we will dive into the code repository and explore the CSP class.\n",
    "\n",
    "As per the textbook, a constraint satisfaction problem consists of three components, $X$, $D$, and $C$:\n",
    "* $X$ is a set of [variables][1], $\\{X_1,...,X_n\\}$.\n",
    "* $D$ is a set of [domains][2], $\\{D_1,...,D_n\\}$, one for each variable.\n",
    "* $C$ is a set of [constraints][3] that specify allowable combinations of values.\n",
    "\n",
    "\n",
    "Each domain $D_i$ consists of a set of allowable values, $\\{v_1,...,v_k\\}$ for variable $X_i$. Each constraint $C_i$ consists of a pair $<scope,rel>$, where $scope$ is a tuple of variables that participate in the constraint and $rel$ is a relation that defines the values that those variables can take on. A relation can be represented as an explicit list of all tuples of values that satisfy the constraint, or as an abstract relation that supports two operations: testing if a tuple is a member of the relation and enumerating the members of the relation.\n",
    "\n",
    "Let's take a look at the [CSP class][4] in the code repository and then we will move on to formally define our first problem.\n",
    "\n",
    "[1]: https://github.com/aimacode/aima-java/blob/AIMA3e/aima-core/src/main/java/aima/core/search/csp/Variable.java\n",
    "[2]: https://github.com/aimacode/aima-java/blob/AIMA3e/aima-core/src/main/java/aima/core/search/csp/Domain.java\n",
    "[3]: https://github.com/aimacode/aima-java/blob/AIMA3e/aima-core/src/main/java/aima/core/search/csp/Constraint.java\n",
    "[4]: https://github.com/aimacode/aima-java/blob/AIMA3e/aima-core/src/main/java/aima/core/search/csp/CSP.java"
   ]
  },
  {
   "cell_type": "code",
   "execution_count": 9,
   "metadata": {},
   "outputs": [
    {
     "data": {
      "text/plain": [
       "aima.core.search.csp.CSP"
      ]
     },
     "execution_count": 9,
     "metadata": {},
     "output_type": "execute_result"
    }
   ],
   "source": [
    "package aima.core.search.csp;\n",
    "\n",
    "import java.util.ArrayList;\n",
    "import java.util.Collections;\n",
    "import java.util.Hashtable;\n",
    "import java.util.List;\n",
    "\n",
    "public class CSP<VAR extends Variable, VAL> implements Cloneable {\n",
    "\n",
    "    private List<VAR> variables;\n",
    "    private List<Domain<VAL>> domains;\n",
    "    private List<Constraint<VAR, VAL>> constraints;\n",
    "\n",
    "    /**\n",
    "     * Lookup, which maps a variable to its index in the list of variables.\n",
    "     */\n",
    "    private Hashtable<Variable, Integer> varIndexHash;\n",
    "    /**\n",
    "     * Constraint network. Maps variables to those constraints in which they\n",
    "     * participate.\n",
    "     */\n",
    "    private Hashtable<Variable, List<Constraint<VAR, VAL>>> cnet;\n",
    "\n",
    "    /**\n",
    "     * Creates a new CSP.\n",
    "     */\n",
    "    public CSP() {\n",
    "        variables = new ArrayList<>();\n",
    "        domains = new ArrayList<>();\n",
    "        constraints = new ArrayList<>();\n",
    "        varIndexHash = new Hashtable<>();\n",
    "        cnet = new Hashtable<>();\n",
    "    }\n",
    "\n",
    "    /**\n",
    "     * Creates a new CSP.\n",
    "     */\n",
    "    public CSP(List<VAR> vars) {\n",
    "        this();\n",
    "        vars.forEach(this::addVariable);\n",
    "    }\n",
    "\n",
    "    /**\n",
    "     * Adds a new variable only if its name is new.\n",
    "     */\n",
    "    protected void addVariable(VAR var) {\n",
    "        if (!varIndexHash.containsKey(var)) {\n",
    "            Domain<VAL> emptyDomain = new Domain<>(Collections.emptyList());\n",
    "            variables.add(var);\n",
    "            domains.add(emptyDomain);\n",
    "            varIndexHash.put(var, variables.size() - 1);\n",
    "            cnet.put(var, new ArrayList<>());\n",
    "        } else {\n",
    "            throw new IllegalArgumentException(\"Variable with same name already exists.\");\n",
    "        }\n",
    "    }\n",
    "\n",
    "    public List<VAR> getVariables() {\n",
    "        return Collections.unmodifiableList(variables);\n",
    "    }\n",
    "\n",
    "    public int indexOf(Variable var) {\n",
    "        return varIndexHash.get(var);\n",
    "    }\n",
    "\n",
    "    public void setDomain(VAR var, Domain<VAL> domain) {\n",
    "        domains.set(indexOf(var), domain);\n",
    "    }\n",
    "\n",
    "    public Domain<VAL> getDomain(Variable var) {\n",
    "        return domains.get(varIndexHash.get(var));\n",
    "    }\n",
    "\n",
    "    /**\n",
    "     * Replaces the domain of the specified variable by new domain, which\n",
    "     * contains all values of the old domain except the specified value.\n",
    "     */\n",
    "    public boolean removeValueFromDomain(VAR var, VAL value) {\n",
    "        Domain<VAL> currDomain = getDomain(var);\n",
    "        List<VAL> values = new ArrayList<>(currDomain.size());\n",
    "        for (VAL v : currDomain)\n",
    "            if (!v.equals(value))\n",
    "                values.add(v);\n",
    "        if (values.size() < currDomain.size()) {\n",
    "            setDomain(var, new Domain<>(values));\n",
    "            return true;\n",
    "        }\n",
    "        return false;\n",
    "    }\n",
    "\n",
    "    public void addConstraint(Constraint<VAR, VAL> constraint) {\n",
    "        constraints.add(constraint);\n",
    "        for (VAR var : constraint.getScope())\n",
    "            cnet.get(var).add(constraint);\n",
    "    }\n",
    "\n",
    "    public boolean removeConstraint(Constraint<VAR, VAL> constraint) {\n",
    "        boolean result = constraints.remove(constraint);\n",
    "        if (result)\n",
    "            for (VAR var : constraint.getScope())\n",
    "                cnet.get(var).remove(constraint);\n",
    "        return result;\n",
    "    }\n",
    "\n",
    "    public List<Constraint<VAR, VAL>> getConstraints() {\n",
    "        return constraints;\n",
    "    }\n",
    "\n",
    "    /**\n",
    "     * Returns all constraints in which the specified variable participates.\n",
    "     */\n",
    "    public List<Constraint<VAR, VAL>> getConstraints(Variable var) {\n",
    "        return cnet.get(var);\n",
    "    }\n",
    "\n",
    "    /**\n",
    "     * Returns for binary constraints the other variable from the scope.\n",
    "     *\n",
    "     * @return a variable or null for non-binary constraints.\n",
    "     */\n",
    "    public VAR getNeighbor(VAR var, Constraint<VAR, VAL> constraint) {\n",
    "        List<VAR> scope = constraint.getScope();\n",
    "        if (scope.size() == 2) {\n",
    "            if (var.equals(scope.get(0)))\n",
    "                return scope.get(1);\n",
    "            else if (var.equals(scope.get(1)))\n",
    "                return scope.get(0);\n",
    "        }\n",
    "        return null;\n",
    "    }\n",
    "\n",
    "    /**\n",
    "     * Returns a copy which contains a copy of the domains list and is in all\n",
    "     * other aspects a flat copy of this.\n",
    "     */\n",
    "    @SuppressWarnings(\"unchecked\")\n",
    "    public CSP<VAR, VAL> copyDomains() {\n",
    "        CSP<VAR, VAL> result;\n",
    "        try {\n",
    "            result = (CSP<VAR, VAL>) clone();\n",
    "            result.domains = new ArrayList<>(domains.size());\n",
    "            result.domains.addAll(domains);\n",
    "        } catch (CloneNotSupportedException e) {\n",
    "            throw new UnsupportedOperationException(\"Could not copy domains.\");\n",
    "        }\n",
    "        return result;\n",
    "    }\n",
    "}"
   ]
  },
  {
   "cell_type": "markdown",
   "metadata": {},
   "source": [
    "The class takes generics `VAR` and `VAL` for the type of variables and the values they can take respectively. The data structures used in the class include:\n",
    "* `List<VAR> variables`: The list of all variables in the CSP\n",
    "* `List<Domain<VAL>> domains`: The corresponding domains of the variables\n",
    "* `List<Constraint<VAR, VAL>> constraint`: The list of different constraints in the CSP\n",
    "* `Hashtable<Variable, Integer> varIndexHash`: A lookup table that stores the index of variable $X_i$ in the `variables` list\n",
    "* `Hashtable<Variable, List<Constraint<VAR, VAL>>> cnet`: This is an adjacency list representation of the **constraint hypergraph**"
   ]
  },
  {
   "cell_type": "markdown",
   "metadata": {},
   "source": [
    "The class also contains the following useful methods:\n",
    "* `CSP()`: constructor that initializes an empty CSP\n",
    "* `CSP(List<VAR> vars)`: constructor that initializes the CSP with given variables\n",
    "* `void addVariable(VAR var)`: Adds a new variable to the CSP\n",
    "* `List<VAR> getVariables()`: Lists all variables currently in the CSP\n",
    "* `void setDomain(VAR var, Domain<VAL> domain)`: Used to specify the *domain* of the variable *var*\n",
    "* `Domain<VAL> getDomain(Variable var)`: Returns the domain of the variable *var*\n",
    "* `boolean removeValueFromDomain(VAR var, VAL value)`: Modifies the domain of the variable *var* by removing a particular value from it\n",
    "* `void addConstraint(Constraint<VAR, VAL> constraint)`: Adds a constraint to the CSP\n",
    "* `boolean removeConstraint(Constraint<VAR, VAL> constraint)`: Removes a constraint from the CSP\n",
    "* `List<Constraint<VAR, VAL>> getConstraints()`: Returns all constraints in the CSP\n",
    "* `List<Constraint<VAR, VAL>> getConstraints(Variable var)`: Returns all constraints that concern with the variable *var*\n",
    "* `VAR getNeighbor(VAR var, Constraint<VAR, VAL> constraint)`: Returns the second variable $neighbor$ in the constraint for a binary constraint $<(var,neighbor),rel>$"
   ]
  },
  {
   "cell_type": "markdown",
   "metadata": {},
   "source": []
  }
 ],
 "metadata": {
  "kernelspec": {
   "display_name": "Java",
   "language": "java",
   "name": "java"
  },
  "language_info": {
   "codemirror_mode": "text/x-java",
   "file_extension": ".java",
   "mimetype": "",
   "name": "Java",
   "nbconverter_exporter": "",
   "version": "1.8.0_144"
  },
  "toc": {
   "base_numbering": 1,
   "nav_menu": {},
   "number_sections": false,
   "sideBar": false,
   "skip_h1_title": false,
   "title_cell": "Table of Contents",
   "title_sidebar": "Contents",
   "toc_cell": false,
   "toc_position": {},
   "toc_section_display": false,
   "toc_window_display": false
  }
 },
 "nbformat": 4,
 "nbformat_minor": 2
}
