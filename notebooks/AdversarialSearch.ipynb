{
 "cells": [
  {
   "cell_type": "markdown",
   "metadata": {},
   "source": [
    "# Adversarial Search"
   ]
  },
  {
   "cell_type": "markdown",
   "metadata": {},
   "source": [
    "This notebook serves as supporting material for the chapter Adversarial Search. Mathematical **game theory** views any multiagent environment as a game, provided that impact of each agent on the other is \"significant\", regardless of whether the agents are cooperative or competitive. In this chapter we cover **competitive** environments, in which the agents' goals are in conflict, giving rise to **adversarial search** problems-often known as **games**. The discussion begins with a definition of the optimal move and an algorithm for finding it. We then look at techniques for choosing a good move when the time is limited. "
   ]
  },
  {
   "cell_type": "code",
   "execution_count": 1,
   "metadata": {},
   "outputs": [
    {
     "data": {
      "application/vnd.jupyter.widget-view+json": {
       "model_id": "a6d99a65-65fc-4c36-838a-758469a17db3",
       "version_major": 2,
       "version_minor": 0
      },
      "method": "display_data"
     },
     "metadata": {},
     "output_type": "display_data"
    }
   ],
   "source": [
    "%classpath add jar ../out/artifacts/aima_core_jar/aima-core.jar"
   ]
  },
  {
   "cell_type": "markdown",
   "metadata": {},
   "source": [
    "## Games\n",
    "\n",
    "We first consider games with 2 players, whom we call MAX and MIN. MAX moves first, and then they take turns moving until the game is over.\n",
    "Now let's formally define a game. According to the textbook, a game can be formally defined as a kind of search problems with the following elements:\n",
    "* $S_0$: The **initial state**, which specifies how the game is setup at the start.\n",
    "* $PLAYER(s)$: Defines which player has the move in a state.\n",
    "* $ACTIONS(s)$: Returns the set of legal moves in a state.\n",
    "* $RESULT(s,a)$: The **transition model**, which defines the result of a move.\n",
    "* $TERMINAL$-$TEST(s)$: A terminal test, which is true when the gamme is over and false otherwise. States where the game has ended are called **terminal states**.\n",
    "* $UTILITY(s,p)$: A utility function defines the final numeric value for a game that ends in terminal state $s$ for a player $p$. For example, in chess, the outcome is a win, lose, or draw, with values +1, 0, or 1/2.\n",
    "\n",
    "The initial state, ACTIONS function, and RESULT function define the **game tree** for the game-a tree where the nodes are game states and edges are moves. Note that, regardless of the size of the game tree, it is MAX's job to search for a good move. We use the term **search tree** for a tree that is superimposed on the full game tree, and examines enough nodes to allow a player to determine what move to make."
   ]
  },
  {
   "cell_type": "code",
   "execution_count": null,
   "metadata": {},
   "outputs": [],
   "source": []
  }
 ],
 "metadata": {
  "kernelspec": {
   "display_name": "Java",
   "language": "java",
   "name": "java"
  },
  "language_info": {
   "codemirror_mode": "text/x-java",
   "file_extension": ".java",
   "mimetype": "",
   "name": "Java",
   "nbconverter_exporter": "",
   "version": "1.8.0_144"
  },
  "toc": {
   "base_numbering": 1,
   "nav_menu": {},
   "number_sections": false,
   "sideBar": false,
   "skip_h1_title": false,
   "title_cell": "Table of Contents",
   "title_sidebar": "Contents",
   "toc_cell": false,
   "toc_position": {},
   "toc_section_display": false,
   "toc_window_display": false
  }
 },
 "nbformat": 4,
 "nbformat_minor": 2
}
